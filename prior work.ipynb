{
 "cells": [
  {
   "cell_type": "code",
   "execution_count": 1,
   "metadata": {},
   "outputs": [],
   "source": [
    "# Python ≥3.5 is required\n",
    "import sys\n",
    "assert sys.version_info >= (3, 5)\n",
    "\n",
    "# Scikit-Learn ≥0.20 is required\n",
    "import sklearn\n",
    "assert sklearn.__version__ >= \"0.20\"\n",
    "\n",
    "# Common imports\n",
    "import numpy as np\n",
    "import os\n",
    "import pandas as pd\n",
    "import matplotlib.pyplot as plt\n",
    "import matplotlib as mpl\n",
    "\n",
    "from joblib import Parallel, delayed\n",
    "from scipy.signal import savgol_filter as sgf\n",
    "from scipy.optimize import curve_fit\n",
    "from sklearn import linear_model\n",
    "from sklearn import metrics\n",
    "\n",
    "# to make this notebook's output stable across runs\n",
    "np.random.seed(42)\n",
    "\n",
    "# To plot pretty figures\n",
    "%matplotlib inline\n",
    "import matplotlib as mpl\n",
    "import matplotlib.pyplot as plt\n",
    "mpl.rc('axes', labelsize=14)\n",
    "mpl.rc('xtick', labelsize=12)\n",
    "mpl.rc('ytick', labelsize=12)\n",
    "\n",
    "# Where to save the figures\n",
    "PROJECT_ROOT_DIR = \".\"\n",
    "CHAPTER_ID = \"classification\"\n",
    "IMAGES_PATH = os.path.join(PROJECT_ROOT_DIR, \"images\", CHAPTER_ID)\n",
    "os.makedirs(IMAGES_PATH, exist_ok=True)\n",
    "\n",
    "def save_fig(fig_id, tight_layout=True, fig_extension=\"png\", resolution=300):\n",
    "    path = os.path.join(IMAGES_PATH, fig_id + \".\" + fig_extension)\n",
    "    print(\"Saving figure\", fig_id)\n",
    "    if tight_layout:\n",
    "        plt.tight_layout()\n",
    "    plt.savefig(path, format=fig_extension, dpi=resolution)"
   ]
  },
  {
   "cell_type": "code",
   "execution_count": 2,
   "metadata": {},
   "outputs": [],
   "source": [
    "Synth = pd.read_csv('CsPbBr_synthesis.csv', index_col = 0)"
   ]
  },
  {
   "cell_type": "code",
   "execution_count": 3,
   "metadata": {},
   "outputs": [],
   "source": [
    "def conc_factor(di=1,mw=1,density=1,conc=0):\n",
    "    result = 0\n",
    "    if conc != 0:\n",
    "        return conc/500/di\n",
    "    else:\n",
    "        volume = 1 #in ul\n",
    "        mass = (volume/1000000)/di*density #g\n",
    "        amount = mass/mw #mol\n",
    "        result = amount*1000*1000000/500\n",
    "        return result #converting into mM\n",
    "    \n",
    "        \n",
    "#Dilution ratio:\n",
    "#Cs Pb 200,OLA 100, Br OA 80\n",
    "SynData = pd.DataFrame()\n",
    "#Cesium Concentration in mM\n",
    "SynData['Cs'] = Synth['Cs']*conc_factor(di=200,conc=1000)\n",
    "#Lead Concentration in mM\n",
    "SynData['Pb'] = Synth['Pb']*conc_factor(di=200,conc=667)\n",
    "#Oleylamine Concentration in mM\n",
    "SynData['OLA'] = Synth['OLA']*conc_factor(di=100,mw=267.5,density=813)\n",
    "#Oleic Acid Concentration in mM\n",
    "SynData['OA'] = (Synth['OA']+Synth['Cs']+Synth['Pb'])*conc_factor(di=80,mw=282.5,density=895)\n",
    "#Benzoyl Bromide Concentration in mM\n",
    "SynData['Br'] = Synth['Br']*conc_factor(di=80,mw=185,density=1570)\n",
    "#Temperature in Celcius\n",
    "SynData['Temp'] = Synth['Temp'] + 273\n",
    "#Normalized Concentration of Products\n",
    "SynData['PbBr3-'] = Synth['PbBr3-']\n",
    "SynData['Cs4PbBr6'] = Synth['Cs4PbBr6']\n",
    "SynData['CsPb2Br5'] = Synth['CsPb2Br5']\n",
    "SynData['PbBr2'] = Synth['PbBr2']\n",
    "SynData['1ML'] = Synth['1 ML']\n",
    "SynData['2ML'] = Synth['2 ML']\n",
    "SynData['3ML'] = Synth['3 ML']\n",
    "SynData['4ML'] = Synth['4 ML']\n",
    "SynData['CsPbBr3'] = Synth['CsPbBr3']\n",
    "    \n",
    "#SynData.head()"
   ]
  },
  {
   "cell_type": "code",
   "execution_count": 5,
   "metadata": {},
   "outputs": [
    {
     "data": {
      "text/plain": [
       "(1351, 15)"
      ]
     },
     "execution_count": 5,
     "metadata": {},
     "output_type": "execute_result"
    }
   ],
   "source": [
    "SynData.shape"
   ]
  },
  {
   "cell_type": "code",
   "execution_count": 4,
   "metadata": {},
   "outputs": [],
   "source": [
    "#Defining a function to create copy of a DataFrame\n",
    "def dfcopy(DataFrame):\n",
    "    result = pd.DataFrame()\n",
    "    for i in DataFrame.columns:\n",
    "        result[i] = DataFrame[i]\n",
    "    return result \n",
    "\n",
    "#Defining a function for avg = 1:\n",
    "def dfscale(DataFrame):\n",
    "    result = pd.DataFrame()\n",
    "    for i in DataFrame.columns:\n",
    "        avg = DataFrame[i].mean()\n",
    "        result[i] = DataFrame[i]/avg\n",
    "    return result"
   ]
  },
  {
   "cell_type": "code",
   "execution_count": 5,
   "metadata": {},
   "outputs": [],
   "source": [
    "#Defining a function to perform feature engineering\n",
    "def addfeatures(train_a1):\n",
    "    train_a1eus = dfcopy(train_a1)\n",
    "    train_a1eus['OA/OLA ^2'] = (train_a1['OA']/train_a1['OLA'])**2\n",
    "    train_a1eus['Pb/OLA ^2'] = (train_a1['Pb']/train_a1['OLA'])**2\n",
    "    train_a1eus['Pb/OA ^2'] = (train_a1['Pb']/train_a1['OA'])**2\n",
    "    train_a1eus['Cs/OLA ^0.5'] = (train_a1['Cs']/train_a1['OLA'])**(1/2)\n",
    "    train_a1eus['Pb/L ^0.5'] = (train_a1['Pb']/(train_a1['OA']+train_a1['OLA']))**(1/2)\n",
    "    train_a1eus['Cs ^2'] = train_a1['Cs']**2\n",
    "    train_a1eus['OLA ^2'] = train_a1['OLA']**2\n",
    "    train_a1eus['Br ^2'] = train_a1['Br']**2\n",
    "    train_a1eus['Temp ^2'] = train_a1['Temp']**2\n",
    "    return train_a1eus"
   ]
  },
  {
   "cell_type": "code",
   "execution_count": 22,
   "metadata": {},
   "outputs": [],
   "source": [
    "#Def: Obtaining RMSE for each species\n",
    "from sklearn.metrics import mean_squared_error\n",
    "\n",
    "def rmsemodel(model,feature,label):\n",
    "    prediction = model.predict(feature)\n",
    "    prediction_df = pd.DataFrame(prediction,index = label.index,columns = label.columns)\n",
    "    results = []\n",
    "    for i in label.columns:\n",
    "        val = mean_squared_error(label[i],prediction_df[i])\n",
    "        results.append(val**0.5)\n",
    "    return results"
   ]
  },
  {
   "cell_type": "code",
   "execution_count": 25,
   "metadata": {},
   "outputs": [],
   "source": [
    "#Def: Obtaining relative RMSE for each species\n",
    "def rrmsemodel(model,feature,label):\n",
    "    prediction = model.predict(feature)\n",
    "    prediction_df = pd.DataFrame(prediction,index = label.index,columns = label.columns)\n",
    "    results = []\n",
    "    for i in label.columns:\n",
    "        val = mean_squared_error(label[i],prediction_df[i])\n",
    "        results.append(val**0.5/label.mean()[i])\n",
    "    return results"
   ]
  },
  {
   "cell_type": "code",
   "execution_count": 18,
   "metadata": {},
   "outputs": [],
   "source": [
    "from sklearn.model_selection import train_test_split\n",
    "train_set, test_set = train_test_split(SynData, test_size=0.2, random_state=42)\n",
    "\n",
    "labels = ['PbBr3-','Cs4PbBr6','CsPb2Br5','PbBr2','CsPbBr3','1ML','2ML','3ML','4ML']\n",
    "attributes = ['Cs','Pb','OLA','OA','Br','Temp']\n",
    "test_l = test_set[labels]\n",
    "test_a = test_set[attributes]\n",
    "train_l = train_set[labels]\n",
    "train_a = train_set[attributes]\n",
    "\n",
    "train_aeus = addfeatures(train_a)\n",
    "train_ae = dfscale(train_aeus)\n",
    "test_aeus = addfeatures(test_a)\n",
    "test_ae = dfscale(test_aeus)"
   ]
  },
  {
   "cell_type": "markdown",
   "metadata": {},
   "source": [
    "**Linear**"
   ]
  },
  {
   "cell_type": "code",
   "execution_count": 16,
   "metadata": {},
   "outputs": [
    {
     "data": {
      "text/plain": [
       "LinearRegression()"
      ]
     },
     "execution_count": 16,
     "metadata": {},
     "output_type": "execute_result"
    }
   ],
   "source": [
    "from sklearn.linear_model import LinearRegression\n",
    "\n",
    "linreg = LinearRegression()\n",
    "linreg.fit(train_ae,train_l)"
   ]
  },
  {
   "cell_type": "code",
   "execution_count": 29,
   "metadata": {},
   "outputs": [],
   "source": [
    "results = pd.DataFrame(index=labels)\n",
    "results['Linear']=rmsemodel(linreg,test_ae,test_l)\n",
    "rresults = pd.DataFrame(index=labels)\n",
    "rresults['Linear']=rrmsemodel(linreg,test_ae,test_l)"
   ]
  },
  {
   "cell_type": "markdown",
   "metadata": {},
   "source": [
    "**Decision Tree**"
   ]
  },
  {
   "cell_type": "code",
   "execution_count": 31,
   "metadata": {},
   "outputs": [
    {
     "data": {
      "text/plain": [
       "GridSearchCV(cv=5, estimator=DecisionTreeRegressor(),\n",
       "             param_grid={'max_depth': [5, 6, 7, 8, 9, 10]},\n",
       "             return_train_score=True, scoring='r2')"
      ]
     },
     "execution_count": 31,
     "metadata": {},
     "output_type": "execute_result"
    }
   ],
   "source": [
    "from sklearn.tree import DecisionTreeRegressor\n",
    "from sklearn.model_selection import GridSearchCV\n",
    "\n",
    "dtr = DecisionTreeRegressor()\n",
    "depth = {'max_depth':[5,6,7,8,9,10]}\n",
    "dtr_op = GridSearchCV(dtr,depth,cv=5,scoring='r2',return_train_score=True)\n",
    "dtr_op.fit(train_ae,train_l)"
   ]
  },
  {
   "cell_type": "code",
   "execution_count": 32,
   "metadata": {},
   "outputs": [],
   "source": [
    "results['Decision Tree'] = rmsemodel(dtr_op,test_ae,test_l)\n",
    "rresults['Decision Tree'] = rrmsemodel(dtr_op,test_ae,test_l)"
   ]
  },
  {
   "cell_type": "markdown",
   "metadata": {},
   "source": [
    "**SVM(rbf)**"
   ]
  },
  {
   "cell_type": "code",
   "execution_count": 33,
   "metadata": {},
   "outputs": [],
   "source": [
    "from sklearn.svm import SVR\n",
    "from sklearn.model_selection import GridSearchCV\n",
    "\n",
    "#Optimizing Gaussian Kernel\n",
    "#Dictionary of gaussian regressors\n",
    "G_SVR = {}\n",
    "Gaussian = {}\n",
    "ghyper = {'C':[0.1,0.5,1,2,4,6,8,10,100,120,150],'gamma':[0.1,0.5,1,2,4,6,8,10,12,15]}\n",
    "\n",
    "for i in labels:\n",
    "    G_SVR[i] = SVR(kernel='rbf')\n",
    "    Gaussian[i] = GridSearchCV(G_SVR[i], ghyper, cv=5,scoring='r2',return_train_score=True)\n",
    "    Gaussian[i].fit(train_ae, train_l[i])"
   ]
  },
  {
   "cell_type": "code",
   "execution_count": 35,
   "metadata": {},
   "outputs": [
    {
     "name": "stdout",
     "output_type": "stream",
     "text": [
      "PbBr3- {'C': 100, 'gamma': 0.1}\n",
      "Cs4PbBr6 {'C': 100, 'gamma': 0.1}\n",
      "CsPb2Br5 {'C': 2, 'gamma': 1}\n",
      "PbBr2 {'C': 10, 'gamma': 0.1}\n",
      "CsPbBr3 {'C': 150, 'gamma': 15}\n",
      "1ML {'C': 8, 'gamma': 0.1}\n",
      "2ML {'C': 6, 'gamma': 0.5}\n",
      "3ML {'C': 2, 'gamma': 4}\n",
      "4ML {'C': 4, 'gamma': 0.5}\n"
     ]
    }
   ],
   "source": [
    "for i in labels:\n",
    "    print(i,Gaussian[i].best_params_)"
   ]
  },
  {
   "cell_type": "code",
   "execution_count": 37,
   "metadata": {},
   "outputs": [],
   "source": [
    "gvalues = []\n",
    "for i in labels:\n",
    "    re = Gaussian[i].predict(test_ae)\n",
    "    val = mean_squared_error(test_l[i],re)\n",
    "    gvalues.append(val)\n",
    "    \n",
    "grvalues = []\n",
    "for i in labels:\n",
    "    re = Gaussian[i].predict(test_ae)\n",
    "    val = mean_squared_error(test_l[i],re)\n",
    "    grvalues.append(val/test_l.mean()[i])\n",
    "    \n",
    "results['SVM(rbf)'] = gvalues\n",
    "rresults['SVM(rbf)'] = grvalues"
   ]
  },
  {
   "cell_type": "markdown",
   "metadata": {},
   "source": [
    "**Random Forest**"
   ]
  },
  {
   "cell_type": "code",
   "execution_count": 40,
   "metadata": {},
   "outputs": [
    {
     "name": "stderr",
     "output_type": "stream",
     "text": [
      "c:\\program files\\python 3.8\\lib\\site-packages\\skopt\\optimizer\\optimizer.py:409: UserWarning: The objective has been evaluated at this point before.\n",
      "  warnings.warn(\"The objective has been evaluated \"\n",
      "c:\\program files\\python 3.8\\lib\\site-packages\\skopt\\optimizer\\optimizer.py:409: UserWarning: The objective has been evaluated at this point before.\n",
      "  warnings.warn(\"The objective has been evaluated \"\n",
      "c:\\program files\\python 3.8\\lib\\site-packages\\skopt\\optimizer\\optimizer.py:409: UserWarning: The objective has been evaluated at this point before.\n",
      "  warnings.warn(\"The objective has been evaluated \"\n",
      "c:\\program files\\python 3.8\\lib\\site-packages\\skopt\\optimizer\\optimizer.py:409: UserWarning: The objective has been evaluated at this point before.\n",
      "  warnings.warn(\"The objective has been evaluated \"\n",
      "c:\\program files\\python 3.8\\lib\\site-packages\\skopt\\optimizer\\optimizer.py:409: UserWarning: The objective has been evaluated at this point before.\n",
      "  warnings.warn(\"The objective has been evaluated \"\n",
      "c:\\program files\\python 3.8\\lib\\site-packages\\skopt\\optimizer\\optimizer.py:409: UserWarning: The objective has been evaluated at this point before.\n",
      "  warnings.warn(\"The objective has been evaluated \"\n",
      "c:\\program files\\python 3.8\\lib\\site-packages\\skopt\\optimizer\\optimizer.py:409: UserWarning: The objective has been evaluated at this point before.\n",
      "  warnings.warn(\"The objective has been evaluated \"\n",
      "c:\\program files\\python 3.8\\lib\\site-packages\\skopt\\optimizer\\optimizer.py:409: UserWarning: The objective has been evaluated at this point before.\n",
      "  warnings.warn(\"The objective has been evaluated \"\n",
      "c:\\program files\\python 3.8\\lib\\site-packages\\skopt\\optimizer\\optimizer.py:409: UserWarning: The objective has been evaluated at this point before.\n",
      "  warnings.warn(\"The objective has been evaluated \"\n",
      "c:\\program files\\python 3.8\\lib\\site-packages\\skopt\\optimizer\\optimizer.py:409: UserWarning: The objective has been evaluated at this point before.\n",
      "  warnings.warn(\"The objective has been evaluated \"\n",
      "c:\\program files\\python 3.8\\lib\\site-packages\\skopt\\optimizer\\optimizer.py:409: UserWarning: The objective has been evaluated at this point before.\n",
      "  warnings.warn(\"The objective has been evaluated \"\n",
      "c:\\program files\\python 3.8\\lib\\site-packages\\skopt\\optimizer\\optimizer.py:409: UserWarning: The objective has been evaluated at this point before.\n",
      "  warnings.warn(\"The objective has been evaluated \"\n",
      "c:\\program files\\python 3.8\\lib\\site-packages\\skopt\\optimizer\\optimizer.py:409: UserWarning: The objective has been evaluated at this point before.\n",
      "  warnings.warn(\"The objective has been evaluated \"\n",
      "c:\\program files\\python 3.8\\lib\\site-packages\\skopt\\optimizer\\optimizer.py:409: UserWarning: The objective has been evaluated at this point before.\n",
      "  warnings.warn(\"The objective has been evaluated \"\n",
      "c:\\program files\\python 3.8\\lib\\site-packages\\skopt\\optimizer\\optimizer.py:409: UserWarning: The objective has been evaluated at this point before.\n",
      "  warnings.warn(\"The objective has been evaluated \"\n",
      "c:\\program files\\python 3.8\\lib\\site-packages\\skopt\\optimizer\\optimizer.py:409: UserWarning: The objective has been evaluated at this point before.\n",
      "  warnings.warn(\"The objective has been evaluated \"\n",
      "c:\\program files\\python 3.8\\lib\\site-packages\\skopt\\optimizer\\optimizer.py:409: UserWarning: The objective has been evaluated at this point before.\n",
      "  warnings.warn(\"The objective has been evaluated \"\n",
      "c:\\program files\\python 3.8\\lib\\site-packages\\skopt\\optimizer\\optimizer.py:409: UserWarning: The objective has been evaluated at this point before.\n",
      "  warnings.warn(\"The objective has been evaluated \"\n",
      "c:\\program files\\python 3.8\\lib\\site-packages\\skopt\\optimizer\\optimizer.py:409: UserWarning: The objective has been evaluated at this point before.\n",
      "  warnings.warn(\"The objective has been evaluated \"\n",
      "c:\\program files\\python 3.8\\lib\\site-packages\\skopt\\optimizer\\optimizer.py:409: UserWarning: The objective has been evaluated at this point before.\n",
      "  warnings.warn(\"The objective has been evaluated \"\n",
      "c:\\program files\\python 3.8\\lib\\site-packages\\skopt\\optimizer\\optimizer.py:409: UserWarning: The objective has been evaluated at this point before.\n",
      "  warnings.warn(\"The objective has been evaluated \"\n",
      "c:\\program files\\python 3.8\\lib\\site-packages\\skopt\\optimizer\\optimizer.py:409: UserWarning: The objective has been evaluated at this point before.\n",
      "  warnings.warn(\"The objective has been evaluated \"\n",
      "c:\\program files\\python 3.8\\lib\\site-packages\\skopt\\optimizer\\optimizer.py:409: UserWarning: The objective has been evaluated at this point before.\n",
      "  warnings.warn(\"The objective has been evaluated \"\n",
      "c:\\program files\\python 3.8\\lib\\site-packages\\skopt\\optimizer\\optimizer.py:409: UserWarning: The objective has been evaluated at this point before.\n",
      "  warnings.warn(\"The objective has been evaluated \"\n",
      "c:\\program files\\python 3.8\\lib\\site-packages\\skopt\\optimizer\\optimizer.py:409: UserWarning: The objective has been evaluated at this point before.\n",
      "  warnings.warn(\"The objective has been evaluated \"\n",
      "c:\\program files\\python 3.8\\lib\\site-packages\\skopt\\optimizer\\optimizer.py:409: UserWarning: The objective has been evaluated at this point before.\n",
      "  warnings.warn(\"The objective has been evaluated \"\n",
      "c:\\program files\\python 3.8\\lib\\site-packages\\skopt\\optimizer\\optimizer.py:409: UserWarning: The objective has been evaluated at this point before.\n",
      "  warnings.warn(\"The objective has been evaluated \"\n",
      "c:\\program files\\python 3.8\\lib\\site-packages\\skopt\\optimizer\\optimizer.py:409: UserWarning: The objective has been evaluated at this point before.\n",
      "  warnings.warn(\"The objective has been evaluated \"\n",
      "c:\\program files\\python 3.8\\lib\\site-packages\\skopt\\optimizer\\optimizer.py:409: UserWarning: The objective has been evaluated at this point before.\n",
      "  warnings.warn(\"The objective has been evaluated \"\n",
      "c:\\program files\\python 3.8\\lib\\site-packages\\skopt\\optimizer\\optimizer.py:409: UserWarning: The objective has been evaluated at this point before.\n",
      "  warnings.warn(\"The objective has been evaluated \"\n",
      "c:\\program files\\python 3.8\\lib\\site-packages\\skopt\\optimizer\\optimizer.py:409: UserWarning: The objective has been evaluated at this point before.\n",
      "  warnings.warn(\"The objective has been evaluated \"\n",
      "c:\\program files\\python 3.8\\lib\\site-packages\\skopt\\optimizer\\optimizer.py:409: UserWarning: The objective has been evaluated at this point before.\n",
      "  warnings.warn(\"The objective has been evaluated \"\n",
      "c:\\program files\\python 3.8\\lib\\site-packages\\skopt\\optimizer\\optimizer.py:409: UserWarning: The objective has been evaluated at this point before.\n",
      "  warnings.warn(\"The objective has been evaluated \"\n",
      "c:\\program files\\python 3.8\\lib\\site-packages\\skopt\\optimizer\\optimizer.py:409: UserWarning: The objective has been evaluated at this point before.\n",
      "  warnings.warn(\"The objective has been evaluated \"\n",
      "c:\\program files\\python 3.8\\lib\\site-packages\\skopt\\optimizer\\optimizer.py:409: UserWarning: The objective has been evaluated at this point before.\n",
      "  warnings.warn(\"The objective has been evaluated \"\n",
      "c:\\program files\\python 3.8\\lib\\site-packages\\skopt\\optimizer\\optimizer.py:409: UserWarning: The objective has been evaluated at this point before.\n",
      "  warnings.warn(\"The objective has been evaluated \"\n",
      "c:\\program files\\python 3.8\\lib\\site-packages\\skopt\\optimizer\\optimizer.py:409: UserWarning: The objective has been evaluated at this point before.\n",
      "  warnings.warn(\"The objective has been evaluated \"\n"
     ]
    }
   ],
   "source": [
    "from sklearn.ensemble import RandomForestRegressor\n",
    "from sklearn.model_selection import cross_val_score\n",
    "from skopt import gp_minimize\n",
    "from skopt.space import Real, Integer\n",
    "from skopt.utils import use_named_args\n",
    "\n",
    "rf = RandomForestRegressor(random_state=42)\n",
    "rfspace = [Integer(5, 100, name='max_depth'),\n",
    "          Integer(5, 15, name='max_features'),\n",
    "          Integer(2, 100, name='min_samples_split'),\n",
    "          Integer(1, 100, name='min_samples_leaf')]\n",
    "\n",
    "@use_named_args(rfspace)\n",
    "def objective(**params):\n",
    "    rf.set_params(**params)\n",
    "    results = cross_val_score(rf, train_ae, train_l, cv=5, n_jobs=-1,scoring=\"neg_root_mean_squared_error\")\n",
    "    return -np.mean(results)\n",
    "\n",
    "\n",
    "rfop = gp_minimize(objective, rfspace, n_calls=50, random_state=0)"
   ]
  },
  {
   "cell_type": "code",
   "execution_count": 41,
   "metadata": {},
   "outputs": [
    {
     "name": "stdout",
     "output_type": "stream",
     "text": [
      "Best parameters:\n",
      ",max_depth=100\n",
      ",max_features=5\n",
      ",min_samples_split=2\n",
      ",min_samples_leaf=1\n"
     ]
    }
   ],
   "source": [
    "print(\"\"\"Best parameters:\n",
    ",max_depth=%d\n",
    ",max_features=%d\n",
    ",min_samples_split=%d\n",
    ",min_samples_leaf=%d\"\"\" % (rfop.x[0], rfop.x[1],\n",
    "                            rfop.x[2], rfop.x[3]))"
   ]
  },
  {
   "cell_type": "code",
   "execution_count": 42,
   "metadata": {},
   "outputs": [
    {
     "data": {
      "text/plain": [
       "RandomForestRegressor(max_depth=100, max_features=5, random_state=42)"
      ]
     },
     "execution_count": 42,
     "metadata": {},
     "output_type": "execute_result"
    }
   ],
   "source": [
    "from sklearn.ensemble import RandomForestRegressor\n",
    "\n",
    "rf_opt=RandomForestRegressor(random_state=42,\n",
    "                             max_depth=100,max_features=5,min_samples_split=2,min_samples_leaf=1\n",
    "                             )\n",
    "rf_opt.fit(train_ae,train_l)"
   ]
  },
  {
   "cell_type": "code",
   "execution_count": 43,
   "metadata": {},
   "outputs": [],
   "source": [
    "results['RF']=rmsemodel(rf_opt,test_ae,test_l)\n",
    "rresults['RF']=rrmsemodel(rf_opt,test_ae,test_l)"
   ]
  },
  {
   "cell_type": "code",
   "execution_count": 47,
   "metadata": {},
   "outputs": [
    {
     "data": {
      "text/html": [
       "<div>\n",
       "<style scoped>\n",
       "    .dataframe tbody tr th:only-of-type {\n",
       "        vertical-align: middle;\n",
       "    }\n",
       "\n",
       "    .dataframe tbody tr th {\n",
       "        vertical-align: top;\n",
       "    }\n",
       "\n",
       "    .dataframe thead th {\n",
       "        text-align: right;\n",
       "    }\n",
       "</style>\n",
       "<table border=\"1\" class=\"dataframe\">\n",
       "  <thead>\n",
       "    <tr style=\"text-align: right;\">\n",
       "      <th></th>\n",
       "      <th>Linear</th>\n",
       "      <th>Decision Tree</th>\n",
       "      <th>SVM(rbf)</th>\n",
       "      <th>RF</th>\n",
       "    </tr>\n",
       "  </thead>\n",
       "  <tbody>\n",
       "    <tr>\n",
       "      <th>PbBr3-</th>\n",
       "      <td>0.108883</td>\n",
       "      <td>0.090039</td>\n",
       "      <td>0.008557</td>\n",
       "      <td>0.059922</td>\n",
       "    </tr>\n",
       "    <tr>\n",
       "      <th>Cs4PbBr6</th>\n",
       "      <td>0.111681</td>\n",
       "      <td>0.089861</td>\n",
       "      <td>0.007306</td>\n",
       "      <td>0.063375</td>\n",
       "    </tr>\n",
       "    <tr>\n",
       "      <th>CsPb2Br5</th>\n",
       "      <td>0.123528</td>\n",
       "      <td>0.110516</td>\n",
       "      <td>0.012661</td>\n",
       "      <td>0.091431</td>\n",
       "    </tr>\n",
       "    <tr>\n",
       "      <th>PbBr2</th>\n",
       "      <td>0.088345</td>\n",
       "      <td>0.122326</td>\n",
       "      <td>0.009452</td>\n",
       "      <td>0.098334</td>\n",
       "    </tr>\n",
       "    <tr>\n",
       "      <th>CsPbBr3</th>\n",
       "      <td>0.080492</td>\n",
       "      <td>0.086778</td>\n",
       "      <td>0.014638</td>\n",
       "      <td>0.071432</td>\n",
       "    </tr>\n",
       "    <tr>\n",
       "      <th>1ML</th>\n",
       "      <td>0.333570</td>\n",
       "      <td>0.306693</td>\n",
       "      <td>0.103752</td>\n",
       "      <td>0.267364</td>\n",
       "    </tr>\n",
       "    <tr>\n",
       "      <th>2ML</th>\n",
       "      <td>0.292265</td>\n",
       "      <td>0.336492</td>\n",
       "      <td>0.076724</td>\n",
       "      <td>0.245823</td>\n",
       "    </tr>\n",
       "    <tr>\n",
       "      <th>3ML</th>\n",
       "      <td>0.311361</td>\n",
       "      <td>0.293156</td>\n",
       "      <td>0.072599</td>\n",
       "      <td>0.234048</td>\n",
       "    </tr>\n",
       "    <tr>\n",
       "      <th>4ML</th>\n",
       "      <td>0.152413</td>\n",
       "      <td>0.153056</td>\n",
       "      <td>0.024775</td>\n",
       "      <td>0.137317</td>\n",
       "    </tr>\n",
       "  </tbody>\n",
       "</table>\n",
       "</div>"
      ],
      "text/plain": [
       "            Linear  Decision Tree  SVM(rbf)        RF\n",
       "PbBr3-    0.108883       0.090039  0.008557  0.059922\n",
       "Cs4PbBr6  0.111681       0.089861  0.007306  0.063375\n",
       "CsPb2Br5  0.123528       0.110516  0.012661  0.091431\n",
       "PbBr2     0.088345       0.122326  0.009452  0.098334\n",
       "CsPbBr3   0.080492       0.086778  0.014638  0.071432\n",
       "1ML       0.333570       0.306693  0.103752  0.267364\n",
       "2ML       0.292265       0.336492  0.076724  0.245823\n",
       "3ML       0.311361       0.293156  0.072599  0.234048\n",
       "4ML       0.152413       0.153056  0.024775  0.137317"
      ]
     },
     "execution_count": 47,
     "metadata": {},
     "output_type": "execute_result"
    }
   ],
   "source": [
    "results"
   ]
  },
  {
   "cell_type": "code",
   "execution_count": 45,
   "metadata": {},
   "outputs": [
    {
     "data": {
      "text/html": [
       "<div>\n",
       "<style scoped>\n",
       "    .dataframe tbody tr th:only-of-type {\n",
       "        vertical-align: middle;\n",
       "    }\n",
       "\n",
       "    .dataframe tbody tr th {\n",
       "        vertical-align: top;\n",
       "    }\n",
       "\n",
       "    .dataframe thead th {\n",
       "        text-align: right;\n",
       "    }\n",
       "</style>\n",
       "<table border=\"1\" class=\"dataframe\">\n",
       "  <thead>\n",
       "    <tr style=\"text-align: right;\">\n",
       "      <th></th>\n",
       "      <th>Linear</th>\n",
       "      <th>Decision Tree</th>\n",
       "      <th>SVM(rbf)</th>\n",
       "      <th>RF</th>\n",
       "    </tr>\n",
       "  </thead>\n",
       "  <tbody>\n",
       "    <tr>\n",
       "      <th>PbBr3-</th>\n",
       "      <td>1.558221</td>\n",
       "      <td>1.288539</td>\n",
       "      <td>0.122465</td>\n",
       "      <td>0.857539</td>\n",
       "    </tr>\n",
       "    <tr>\n",
       "      <th>Cs4PbBr6</th>\n",
       "      <td>1.587399</td>\n",
       "      <td>1.277247</td>\n",
       "      <td>0.103849</td>\n",
       "      <td>0.900788</td>\n",
       "    </tr>\n",
       "    <tr>\n",
       "      <th>CsPb2Br5</th>\n",
       "      <td>1.882526</td>\n",
       "      <td>1.684226</td>\n",
       "      <td>0.192955</td>\n",
       "      <td>1.393382</td>\n",
       "    </tr>\n",
       "    <tr>\n",
       "      <th>PbBr2</th>\n",
       "      <td>1.607980</td>\n",
       "      <td>2.226470</td>\n",
       "      <td>0.172042</td>\n",
       "      <td>1.789797</td>\n",
       "    </tr>\n",
       "    <tr>\n",
       "      <th>CsPbBr3</th>\n",
       "      <td>3.996246</td>\n",
       "      <td>4.308332</td>\n",
       "      <td>0.726768</td>\n",
       "      <td>3.546439</td>\n",
       "    </tr>\n",
       "    <tr>\n",
       "      <th>1ML</th>\n",
       "      <td>1.782971</td>\n",
       "      <td>1.639314</td>\n",
       "      <td>0.554566</td>\n",
       "      <td>1.429094</td>\n",
       "    </tr>\n",
       "    <tr>\n",
       "      <th>2ML</th>\n",
       "      <td>1.675398</td>\n",
       "      <td>1.928929</td>\n",
       "      <td>0.439816</td>\n",
       "      <td>1.409172</td>\n",
       "    </tr>\n",
       "    <tr>\n",
       "      <th>3ML</th>\n",
       "      <td>2.232410</td>\n",
       "      <td>2.101881</td>\n",
       "      <td>0.520526</td>\n",
       "      <td>1.678084</td>\n",
       "    </tr>\n",
       "    <tr>\n",
       "      <th>4ML</th>\n",
       "      <td>3.065163</td>\n",
       "      <td>3.078105</td>\n",
       "      <td>0.498251</td>\n",
       "      <td>2.761570</td>\n",
       "    </tr>\n",
       "  </tbody>\n",
       "</table>\n",
       "</div>"
      ],
      "text/plain": [
       "            Linear  Decision Tree  SVM(rbf)        RF\n",
       "PbBr3-    1.558221       1.288539  0.122465  0.857539\n",
       "Cs4PbBr6  1.587399       1.277247  0.103849  0.900788\n",
       "CsPb2Br5  1.882526       1.684226  0.192955  1.393382\n",
       "PbBr2     1.607980       2.226470  0.172042  1.789797\n",
       "CsPbBr3   3.996246       4.308332  0.726768  3.546439\n",
       "1ML       1.782971       1.639314  0.554566  1.429094\n",
       "2ML       1.675398       1.928929  0.439816  1.409172\n",
       "3ML       2.232410       2.101881  0.520526  1.678084\n",
       "4ML       3.065163       3.078105  0.498251  2.761570"
      ]
     },
     "execution_count": 45,
     "metadata": {},
     "output_type": "execute_result"
    }
   ],
   "source": [
    "rresults"
   ]
  },
  {
   "cell_type": "code",
   "execution_count": null,
   "metadata": {},
   "outputs": [],
   "source": []
  }
 ],
 "metadata": {
  "kernelspec": {
   "display_name": "Python 3",
   "language": "python",
   "name": "python3"
  },
  "language_info": {
   "codemirror_mode": {
    "name": "ipython",
    "version": 3
   },
   "file_extension": ".py",
   "mimetype": "text/x-python",
   "name": "python",
   "nbconvert_exporter": "python",
   "pygments_lexer": "ipython3",
   "version": "3.8.3"
  }
 },
 "nbformat": 4,
 "nbformat_minor": 4
}
